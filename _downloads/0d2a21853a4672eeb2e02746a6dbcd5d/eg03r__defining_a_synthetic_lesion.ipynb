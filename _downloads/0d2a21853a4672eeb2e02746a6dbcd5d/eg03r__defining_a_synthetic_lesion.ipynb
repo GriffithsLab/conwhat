{
  "cells": [
    {
      "cell_type": "code",
      "execution_count": null,
      "metadata": {
        "collapsed": false
      },
      "outputs": [],
      "source": [
        "%matplotlib inline"
      ]
    },
    {
      "cell_type": "markdown",
      "metadata": {},
      "source": [
        "\n# Defining a synthetic lesion\n"
      ]
    },
    {
      "cell_type": "code",
      "execution_count": null,
      "metadata": {
        "collapsed": false
      },
      "outputs": [],
      "source": [
        "# # Defining a Lesion\n\n# Conducting a lesion analysis in ConWhAt is extremely simple. All that is needed is a binary  `.nii` format lesion mask, with ones indicating lesioned tissue, and zeros elsewhere. \n# \n# \n# >(Note: we terms like 'lesion' and 'damage' throughout most of this documentation, as that is the most natural primary context for ConWhAt analyses. Remember however that all we are doing at the end of the day is doing a set of look-up operations between a list of standard space coordinates on the one hand (as defined by non-zero values in a `.nii` image), and the spatial locations of each 'connectome edge' -  i.e. each entry in our anatomical connectivity matrix. One can envisave many alternative interpretations/applications of this procedure; for example to map the connectivity effects of magnetic field or current distributions from nonivasive brain stimulation). Still, for concreteness and simplicity, we stick with 'lesion', 'damage', etc. for the most part. )\n# \n# \n# A common way to obtain a lesion map is to from a patient's T1-weighted MR image. Although this can be done manually, it is strongly recommended to use an automated lesion segmentation tools, followed by manual editing. \n# \n# An alternative way is simply to define a lesion location using standard space coordinates, and build a 'lesion' mask *de-novo*. This is what we do in the following example. On the next page we do a ConWhAt connectome-based decomposition analysis on this 'synthetic' lesion mask.\n# \n# ---"
      ]
    },
    {
      "cell_type": "markdown",
      "metadata": {},
      "source": [
        "## Setup\n\n"
      ]
    },
    {
      "cell_type": "code",
      "execution_count": null,
      "metadata": {
        "collapsed": false
      },
      "outputs": [],
      "source": [
        "# ConWhAt stuff\nfrom conwhat import VolConnAtlas,StreamConnAtlas,VolTractAtlas,StreamTractAtlas\nfrom conwhat.viz.volume import plot_vol_and_rois_nilearn\n\n# Neuroimaging stuff\nimport nibabel as nib\nfrom nilearn.plotting import plot_roi\nfrom nilearn.datasets import load_mni152_template\nfrom nipy.labs.spatial_models.mroi import subdomain_from_balls\nfrom nipy.labs.spatial_models.discrete_domain import grid_domain_from_image\n\n# Viz stuff\nfrom matplotlib import pyplot as plt\n\n# Generic stuff\nimport os,sys,glob,numpy as np\n\n# (For docs only: suppress warnings)\nimport warnings\nwarnings.filterwarnings(\"ignore\")"
      ]
    },
    {
      "cell_type": "code",
      "execution_count": null,
      "metadata": {
        "collapsed": false
      },
      "outputs": [],
      "source": [
        "# Define some variables\n\n# Locate the standard space template image\n\nt1_mni_url = 'https://github.com/Washington-University/HCPpipelines/raw/master/global/templates/MNI152_T1_1mm_brain.nii.gz'\nos.system('wget ' + t1_mni_url)\nt1_mni_file = t1_mni_url.split('/')[-1]\nt1_mni_img = nib.load(t1_mni_file)\n\n# This is the output we will save to file and use in the next example\nlesion_file = 'synthetic_lesion_20mm_sphere_-46_-60_6.nii.gz'\n\n# Define the 'synthetic lesion' location and size using standard (MNI) space coordinates\ncom = [-46,-60,6] # com = centre of mass\nrad = 20             # radius"
      ]
    },
    {
      "cell_type": "code",
      "execution_count": null,
      "metadata": {
        "collapsed": false
      },
      "outputs": [],
      "source": [
        "# Create the ROI\ndomain = grid_domain_from_image(t1_mni_img)\nlesion_img = subdomain_from_balls(domain,np.array([com]), np.array([rad])).to_image()\n\n# Plot on brain slices\ndisp = plot_roi(lesion_img,bg_img=t1_mni_img,black_bg=False);\n\n# Save to file\nlesion_img.to_filename(lesion_file)\n\n# ...now we move on to doing a lesion analysis with this file."
      ]
    }
  ],
  "metadata": {
    "kernelspec": {
      "display_name": "Python 3",
      "language": "python",
      "name": "python3"
    },
    "language_info": {
      "codemirror_mode": {
        "name": "ipython",
        "version": 3
      },
      "file_extension": ".py",
      "mimetype": "text/x-python",
      "name": "python",
      "nbconvert_exporter": "python",
      "pygments_lexer": "ipython3",
      "version": "3.8.12"
    }
  },
  "nbformat": 4,
  "nbformat_minor": 0
}