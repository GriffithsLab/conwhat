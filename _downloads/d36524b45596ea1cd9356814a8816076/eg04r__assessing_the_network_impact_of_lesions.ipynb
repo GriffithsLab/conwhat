{
  "cells": [
    {
      "cell_type": "code",
      "execution_count": null,
      "metadata": {
        "collapsed": false
      },
      "outputs": [],
      "source": [
        "%matplotlib inline"
      ]
    },
    {
      "cell_type": "markdown",
      "metadata": {},
      "source": [
        "\n# Assessing the network impact of a lesion\n"
      ]
    },
    {
      "cell_type": "code",
      "execution_count": null,
      "metadata": {
        "collapsed": false
      },
      "outputs": [],
      "source": [
        ""
      ]
    },
    {
      "cell_type": "markdown",
      "metadata": {},
      "source": [
        "## Setup\n\n"
      ]
    },
    {
      "cell_type": "code",
      "execution_count": null,
      "metadata": {
        "collapsed": false
      },
      "outputs": [],
      "source": [
        "# ConWhAt stuff\nfrom conwhat import VolConnAtlas,StreamConnAtlas,VolTractAtlas,StreamTractAtlas\nfrom conwhat.viz.volume import plot_vol_scatter\n\n# Neuroimaging stuff\nimport nibabel as nib\nfrom nilearn.plotting import (plot_stat_map,plot_surf_roi,plot_roi,\n                             plot_connectome,find_xyz_cut_coords)\nfrom nilearn.image import resample_to_img\nfrom nilearn.datasets import load_mni152_template\n\n# Viz stuff\nfrom matplotlib import pyplot as plt\nimport seaborn as sns\n\n# Generic stuff\nimport os, glob, numpy as np, pandas as pd, networkx as nx\nfrom datetime import datetime\n\n# (for docs only: suppress warnings)\nimport warnings\nwarnings.filterwarnings('ignore')"
      ]
    },
    {
      "cell_type": "markdown",
      "metadata": {},
      "source": [
        "## Grab lesion\n\n"
      ]
    },
    {
      "cell_type": "code",
      "execution_count": null,
      "metadata": {
        "collapsed": false
      },
      "outputs": [],
      "source": [
        "# We now use the synthetic lesion constructed in the previous example in a ConWhAt lesion analysis.\n\nlesion_file = 'synthetic_lesion_20mm_sphere_-46_-60_6.nii.gz' # we created this file from scratch in the previous example\nassert os.path.isfile(lesion_file)\n\n# Take another quick look at this mask:\n\nlesion_img = nib.load(lesion_file)\nt1_mni_img = load_mni152_template(resolution=1)\nplot_roi(lesion_file,bg_img=t1_mni_img,black_bg=False);\n\n# Since our lesion mask does not (by construction) have a huge amount of spatial detail, it makes sense to use one of the lower-resolution atlas. As one might expect, computation time is considerably faster for lower-resolution atlases. \n\ncw_atlases_dir = 'conwhat_atlases'\natlas_name = 'CWL2k8Sc33Vol3d100s_v01'\natlas_dir = '%s/%s' %(cw_atlases_dir, atlas_name)\natlas_dir\n\n# See the previous tutorial on 'exploring the conwhat atlases'  for more info on how to examine the components of a given atlas in *ConWhAt*. \n\n# Initialize the atlas\n\ncw_vca = VolConnAtlas(atlas_dir=atlas_dir)\n\n# Choose which connections to evaluate. \n# \n# This is normally an array of numbers indexing entries in `cw_vca.vfms`.\n# \n# Pre-defining connection subsets is a useful way of speeding up large analyses, especially if one is only interested in connections between specific sets of regions. \n# \n# As we are using a relatively small atlas, and our lesion is not too extensive, we can assess all connections. \n\nidxs = 'all' # alternatively, something like: range(1,100), indicates the first 100 cnxns (rows in .vmfs)\n\n# Now, compute lesion overlap statistics. \n\njlc_dir = 'cw_joblib_cache_dir' # this is the cache dir where joblib writes temporary file\\n\n\nlo_df,lo_nx = cw_vca.compute_hit_stats(lesion_file,idxs,n_jobs=4,joblib_cache_dir=jlc_dir)\n\n# This takes about 20 minutes to run. \n# \n# `vca.compute_hit_stats()` returns a `pandas` dataframe, `lo_df`, and a `networkx` object, `lo_nx`. \n# \n# Both contain mostly the same information, which is sometimes more useful in one of these formats and sometimes in the other. \n# \n# `lo_df` is a table, with rows corresponding to each connection, and columns for each of a wide set of [statistical metrics](https://en.wikipedia.org/wiki/Sensitivity_and_specificity) for evaluating sensitivity and specificity of binary hit/miss data:\n\nlo_df.head()\n\n# Typically we will be mainly interested in two of these metric scores:\n# \n# `TPR` - True positive (i.e. hit) rate: number of true positives, divided by number of true positives + number of false negatives\n# \n# \n# `corr_thrbin` -  Pearson correlation between the lesion amge and the thresholded, binarized connectome edge image (group-level visitation map)\n\nlo_df[['TPR', 'corr_thrbin']].iloc[:10].T\n\n# We can obtain these numbers as a 'modification matrix' (connectivity matrix)\n\ntpr_adj = nx.to_pandas_adjacency(lo_nx,weight='TPR')\ncpr_adj = nx.to_pandas_adjacency(lo_nx,weight='corr_thrbin')\n\n# These two maps are, unsurprisingly, very similar:\n\nnp.corrcoef(tpr_adj.values.ravel(), cpr_adj.values.ravel())\n\nfig, ax = plt.subplots(ncols=2, figsize=(12,4))\n\nsns.heatmap(tpr_adj,xticklabels='',yticklabels='',vmin=0,vmax=0.5,ax=ax[0]);\n\nsns.heatmap(cpr_adj,xticklabels='',yticklabels='',vmin=0,vmax=0.5,ax=ax[1]);\n\n# (...with an alternative color scheme...)\n\nfig, ax = plt.subplots(ncols=2, figsize=(12,4))\n\nsns.heatmap(tpr_adj, xticklabels='',yticklabels='',cmap='Reds',\n                   mask=tpr_adj.values==0,vmin=0,vmax=0.5,ax=ax[0]);\n\nsns.heatmap(cpr_adj,xticklabels='',yticklabels='',cmap='Reds',\n                   mask=cpr_adj.values==0,vmin=0,vmax=0.5,ax=ax[1]);\n\n# We can list directly the most affected (greatest % overlap) connections, \n\ncw_vca.vfms.loc[lo_df.index].head()\n\n# To plot the modification matrix information on a brain, we first need to some spatial locations to plot as nodes. For these, we calculate (an approprixation to) each atlas region's centriod location:\n\nparc_img = cw_vca.region_nii\nparc_dat = parc_img.get_data()\nparc_vals = np.unique(parc_dat)[1:]\n\nccs = {parc_val: find_xyz_cut_coords(nib.Nifti1Image((parc_dat==parc_val).astype(int),parc_img.affine),\n                                   activation_threshold=0) for parc_val in parc_vals}\nccs_arr = np.array(list(ccs.values()))\n\n# Now plotting on a glass brain:\n\nfig, ax = plt.subplots(figsize=(16,5))\nplot_connectome(tpr_adj.values,ccs_arr,axes=ax,edge_threshold=0.2,colorbar=True,\n                    edge_cmap='Reds',edge_vmin=0,edge_vmax=1.,edge_kwargs={'linewidth': 2.5},\n                    node_color='lightgrey',node_kwargs={'alpha': 0.4});"
      ]
    }
  ],
  "metadata": {
    "kernelspec": {
      "display_name": "Python 3",
      "language": "python",
      "name": "python3"
    },
    "language_info": {
      "codemirror_mode": {
        "name": "ipython",
        "version": 3
      },
      "file_extension": ".py",
      "mimetype": "text/x-python",
      "name": "python",
      "nbconvert_exporter": "python",
      "pygments_lexer": "ipython3",
      "version": "3.8.12"
    }
  },
  "nbformat": 4,
  "nbformat_minor": 0
}