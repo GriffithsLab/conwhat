{
  "cells": [
    {
      "cell_type": "code",
      "execution_count": null,
      "metadata": {
        "collapsed": false
      },
      "outputs": [],
      "source": [
        "%matplotlib inline"
      ]
    },
    {
      "cell_type": "markdown",
      "metadata": {},
      "source": [
        "\n# Downloading ConWhAt Atlases\n"
      ]
    },
    {
      "cell_type": "markdown",
      "metadata": {},
      "source": [
        "## Setup\n\n"
      ]
    },
    {
      "cell_type": "code",
      "execution_count": null,
      "metadata": {
        "collapsed": false
      },
      "outputs": [],
      "source": [
        "# Import the fetcher function\n\nfrom conwhat.utils.fetchers import fetch_conwhat_atlas\nimport os,glob\n\n# Define the output directory\n\natlas_dir = 'conwhat_atlases'\n\n# Define which atlas to grab\n\natlas_name = 'CWL2k8Sc33Vol3d100s_v01'"
      ]
    },
    {
      "cell_type": "markdown",
      "metadata": {},
      "source": [
        "## Download the atlases and take a look\n\n"
      ]
    },
    {
      "cell_type": "code",
      "execution_count": null,
      "metadata": {
        "collapsed": false
      },
      "outputs": [],
      "source": [
        "fetch_conwhat_atlas(atlas_name,atlas_dir,remove_existing=True);\n\n# The zipped and unzipped atlas folders are now there in the top-level atlas directory;\n\nglob.glob(atlas_dir + '/*')\n\n\n# The .zip file can be optionally removed automatically if desired. \n\n# volumetric atlas folders contain a small number of fairly small .txt files\n\nglob.glob('%s/%s/*.txt' %(atlas_dir,atlas_name))\n\n# ...and a larger number of nifti images; one for each atlas structure\n\nglob.glob('%s/%s/*.nii.gz' %(atlas_dir,atlas_name))[:5]\n\nlen(glob.glob('%s/%s/*.nii.gz' %(atlas_dir,atlas_name)))"
      ]
    }
  ],
  "metadata": {
    "kernelspec": {
      "display_name": "Python 3",
      "language": "python",
      "name": "python3"
    },
    "language_info": {
      "codemirror_mode": {
        "name": "ipython",
        "version": 3
      },
      "file_extension": ".py",
      "mimetype": "text/x-python",
      "name": "python",
      "nbconvert_exporter": "python",
      "pygments_lexer": "ipython3",
      "version": "3.8.12"
    }
  },
  "nbformat": 4,
  "nbformat_minor": 0
}