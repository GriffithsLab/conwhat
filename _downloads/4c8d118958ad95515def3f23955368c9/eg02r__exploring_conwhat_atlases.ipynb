{
  "cells": [
    {
      "cell_type": "code",
      "execution_count": null,
      "metadata": {
        "collapsed": false
      },
      "outputs": [],
      "source": [
        "%matplotlib inline"
      ]
    },
    {
      "cell_type": "markdown",
      "metadata": {},
      "source": [
        "\n# Exploring the ConWhAt Atlases\n"
      ]
    },
    {
      "cell_type": "code",
      "execution_count": null,
      "metadata": {
        "collapsed": false
      },
      "outputs": [],
      "source": [
        "# There are four different atlas types in ConWhat, corresponding to the 2 ontology types (Tract-based / Connectivity-Based) and 2 representation types (Volumetric / Streamlinetric). \n# \n# (More on this schema [here](http://conwhat.readthedocs.io/en/latest/about_conwhat/ontology_and_representation.html))"
      ]
    },
    {
      "cell_type": "markdown",
      "metadata": {},
      "source": [
        "## Setup\n\n"
      ]
    },
    {
      "cell_type": "code",
      "execution_count": null,
      "metadata": {
        "collapsed": false
      },
      "outputs": [],
      "source": [
        "# ConWhAt stuff\nfrom conwhat import VolConnAtlas,StreamConnAtlas,VolTractAtlas,StreamTractAtlas\nfrom conwhat.viz.volume import plot_vol_scatter,plot_vol_and_rois_nilearn\n\n# Neuroimaging stuff\nimport nibabel as nib\nfrom nilearn.plotting import plot_stat_map,plot_surf_roi\nfrom nilearn.datasets import fetch_surf_fsaverage\nfrom nilearn.surface import load_surf_mesh\n\n# Viz stuff\nfrom matplotlib import pyplot as plt\nimport seaborn as sns\n\n# Generic stuff\nimport glob, numpy as np, pandas as pd, networkx as nx\n\n# supress warnings for docs build\nimport warnings"
      ]
    },
    {
      "cell_type": "markdown",
      "metadata": {},
      "source": [
        "## Load and explore\n\n"
      ]
    },
    {
      "cell_type": "code",
      "execution_count": null,
      "metadata": {
        "collapsed": false
      },
      "outputs": [],
      "source": [
        "# We'll start with the scale 33 lausanne 2008 volumetric connectivity-based atlas.\n\n# Define the atlas name and top-level directory location\n\natlas_dir = 'conwhat_atlases'\natlas_name = 'CWL2k8Sc33Vol3d100s_v01'\n\n# Initialize the atlas class\n\nvca = VolConnAtlas(atlas_dir=atlas_dir + '/' + atlas_name,\n                   atlas_name=atlas_name)\n\n# This atlas object contains various pieces of general information\n\nvca.atlas_name\n\nvca.atlas_dir\n\n# Information about each atlas entry is contained in the `vfms` attribute, which returns a pandas dataframe\n\nvca.vfms.head()\n\n# Additionally, connectivity-based atlases also contain a `networkx` graph object `vca.Gnx`, \n# which contains information about each connectome edge\n\nvca.Gnx.edges[(10,35)]\n\n# Individual atlas entry nifti images can be grabbed like so\n\nimg = vca.get_vol_from_vfm(1637)\n\nfig = plt.figure(figsize=(12,3))\nplot_stat_map(img, figure=fig,colorbar=True,vmax=0.5)\n\n# Or alternatively as a 3D scatter plot, along with the x,y,z bounding box\n\nvca.bbox.loc[1637]\n\nax = plot_vol_scatter(vca.get_vol_from_vfm(1),c='r',bg_img='nilearn_destrieux',\n                      bg_params={'s': 0.1, 'c':'k'},figsize=(20, 15))\n\nax.set_xlim([0,200]); ax.set_ylim([0,200]); ax.set_zlim([0,200]);\n\n# We can also view the weights matrix like so:\n\nfig, ax = plt.subplots(figsize=(16,12))\n\nsns.heatmap(np.log1p(vca.weights),xticklabels=vca.region_labels,\n            yticklabels=vca.region_labels,ax=ax);\nplt.tight_layout()\n\n# The `vca` object also contains x,y,z bounding boxes for each structure\n\n# We also stored additional useful information about the ROIs in the associated parcellation, including cortical/subcortical labels\n\nvca.cortex\n\n# ...hemisphere labels\n\nvca.hemispheres\n\n# ...and region mappings to freesurfer's fsaverage brain\n\nvca.region_mapping_fsav_lh\n\nvca.region_mapping_fsav_rh\n\n# which can be used for, e.g. plotting ROI data on a surface\n\nfsav = fetch_surf_fsaverage('fsaverage7');\nfsav_lhp =  load_surf_mesh(fsav['pial_left']);\nvtx,tri = fsav_lhp.coordinates,fsav_lhp.faces\n\ndisp = plot_surf_roi([vtx,tri],vca.region_mapping_fsav_lh);"
      ]
    }
  ],
  "metadata": {
    "kernelspec": {
      "display_name": "Python 3",
      "language": "python",
      "name": "python3"
    },
    "language_info": {
      "codemirror_mode": {
        "name": "ipython",
        "version": 3
      },
      "file_extension": ".py",
      "mimetype": "text/x-python",
      "name": "python",
      "nbconvert_exporter": "python",
      "pygments_lexer": "ipython3",
      "version": "3.8.5"
    }
  },
  "nbformat": 4,
  "nbformat_minor": 0
}